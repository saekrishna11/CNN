{
 "cells": [
  {
   "cell_type": "markdown",
   "metadata": {
    "id": "1djcfmXVANE3"
   },
   "source": [
    "**Team Members:**\n",
    "\n",
    "![Screenshot 2024-04-29 232821.png](data:image/png;base64,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)"
   ]
  },
  {
   "attachments": {},
   "cell_type": "markdown",
   "metadata": {},
   "source": [
    "Git Hub repo: https://github.com/saekrishna11/CNN\n",
    "\n",
    "\n",
    "\n",
    "\n"
   ]
  },
  {
   "cell_type": "markdown",
   "metadata": {
    "id": "Qr2rGpyBDLuC"
   },
   "source": [
    "**Title:**\n",
    "Analyzing the Performance of a Convolutional Neural Network for Handwritten Digit Classification Using the MNIST Dataset\n",
    "\n",
    "**Abstract:**\n",
    "This study investigates the effectiveness of Convolutional Neural Networks (CNNs) for classifying handwritten digits from the MNIST dataset. A CNN architecture comprising two convolutional layers followed by ReLU activation and max pooling, and two fully connected layers for classification, is implemented. The model is trained and evaluated using the Adam optimizer and cross-entropy loss function. Additionally, K-Fold cross-validation is employed to assess the model's robustness. The results demonstrate a high accuracy of 99.42% on Fold 5 of the training images, indicating excellent performance. Furthermore, the confusion matrix analysis reveals the model's ability to accurately classify digits across all classes with minimal false positives and false negatives. Overall, this study highlights the efficacy of CNNs for handwritten digit classification tasks and provides insights into model performance and generalization capabilities."
   ]
  },
  {
   "cell_type": "markdown",
   "metadata": {
    "id": "qgAaiD6ND-FW"
   },
   "source": [
    "\n",
    "**1. Introduction:**\n",
    "   - This project implements a Convolutional Neural Network (CNN) for the classification of handwritten digits from the MNIST dataset. The CNN architecture consists of two convolutional layers followed by ReLU activation and max pooling, and two fully connected layers for classification.\n",
    "\n"
   ]
  },
  {
   "cell_type": "code",
   "execution_count": null,
   "metadata": {
    "id": "9PLYPNgW7gl0"
   },
   "outputs": [],
   "source": [
    "#Importing all the required libraries\n",
    "import torch\n",
    "import torch.nn as nn\n",
    "import torchvision.datasets as dsets\n",
    "import torchvision.transforms as transforms\n",
    "from torch.autograd import Variable\n",
    "from sklearn.model_selection import KFold\n",
    "from sklearn.metrics import confusion_matrix\n",
    "import numpy as np\n"
   ]
  },
  {
   "cell_type": "markdown",
   "metadata": {
    "id": "Mn1FqgAym5d0"
   },
   "source": [
    "**2. Dataset Preparation:**\n",
    "   - The MNIST dataset is loaded using the torchvision library. It contains 60,000 training images and 10,000 test images of handwritten digits (0-9).\n",
    "   - Data loaders are created to efficiently load batches of training and test data during model training and evaluation."
   ]
  },
  {
   "cell_type": "code",
   "execution_count": null,
   "metadata": {
    "id": "r6cOjHD4m4XP"
   },
   "outputs": [],
   "source": [
    "# Load the MNIST dataset\n",
    "train_data = dsets.MNIST(root='./data', train=True,\n",
    "                         transform=transforms.ToTensor(), download=True)\n",
    "\n",
    "test_data = dsets.MNIST(root='./data', train=False,\n",
    "                        transform=transforms.ToTensor())\n",
    "\n",
    "# Define data loaders\n",
    "train_loader = torch.utils.data.DataLoader(dataset=train_data, batch_size=100, shuffle=True)\n",
    "test_loader = torch.utils.data.DataLoader(dataset=test_data, batch_size=100, shuffle=False)"
   ]
  },
  {
   "cell_type": "markdown",
   "metadata": {
    "id": "PYcFJCp_nRuW"
   },
   "source": [
    "**3. CNN Architecture:**\n",
    "   - The CNN architecture consists of the following layers:\n",
    "     - Convolutional Layer 1: 16 filters of size 5x5 with ReLU activation.\n",
    "     - Max Pooling Layer 1: Max pooling with a kernel size of 2x2 and stride 2.\n",
    "     - Convolutional Layer 2: 32 filters of size 5x5 with ReLU activation.\n",
    "     - Max Pooling Layer 2: Max pooling with a kernel size of 2x2 and stride 2.\n",
    "     - Fully Connected Layer 1: 500 neurons with ReLU activation.\n",
    "     - Fully Connected Layer 2: 10 neurons (output layer) with softmax activation."
   ]
  },
  {
   "cell_type": "code",
   "execution_count": null,
   "metadata": {
    "id": "9FjrAnEu7iCu"
   },
   "outputs": [],
   "source": [
    "# Defining the CNN architecture\n",
    "class CNN(nn.Module):\n",
    "    def __init__(self):\n",
    "        super(CNN, self).__init__()\n",
    "        self.conv1 = nn.Conv2d(in_channels=1, out_channels=16, kernel_size=5, stride=1, padding=2)\n",
    "        self.relu = nn.ReLU()\n",
    "        self.maxpool = nn.MaxPool2d(kernel_size=2, stride=2)\n",
    "        self.conv2 = nn.Conv2d(in_channels=16, out_channels=32, kernel_size=5, stride=1, padding=2)\n",
    "        self.fc1 = nn.Linear(32 * 7 * 7, 500)\n",
    "        self.fc2 = nn.Linear(500, 10)\n",
    "\n",
    "    def forward(self, x):\n",
    "        out = self.conv1(x)\n",
    "        out = self.relu(out)\n",
    "        out = self.maxpool(out)\n",
    "        out = self.conv2(out)\n",
    "        out = self.relu(out)\n",
    "        out = self.maxpool(out)\n",
    "        out = out.view(out.size(0), -1)\n",
    "        out = self.fc1(out)\n",
    "        out = self.relu(out)\n",
    "        out = self.fc2(out)\n",
    "        return out\n"
   ]
  },
  {
   "cell_type": "code",
   "execution_count": null,
   "metadata": {
    "id": "DKVzYQ797iEv"
   },
   "outputs": [],
   "source": [
    "# Instantiating the CNN\n",
    "cnn = CNN()\n",
    "\n",
    "# If GPU is available, move the model to GPU\n",
    "if torch.cuda.is_available():\n",
    "    cnn.cuda()\n",
    "\n",
    "# Defining loss function and optimizer\n",
    "criterion = nn.CrossEntropyLoss()\n",
    "optimizer = torch.optim.Adam(cnn.parameters(), lr=0.001)"
   ]
  },
  {
   "cell_type": "markdown",
   "metadata": {
    "id": "jt06-yJqnZZc"
   },
   "source": [
    "\n",
    "**4. Model Training:**\n",
    "   - The CNN model is trained using the Adam optimizer with a learning rate of 0.001 and cross-entropy loss function.\n",
    "   - The training loop runs for 5 epochs, iterating over batches of training data.\n",
    "   - The model parameters are updated using backpropagation."
   ]
  },
  {
   "cell_type": "code",
   "execution_count": null,
   "metadata": {
    "colab": {
     "base_uri": "https://localhost:8080/"
    },
    "id": "VNB6JGzC7iH4",
    "outputId": "ab09caac-cd1e-4345-d299-7697a5a69891"
   },
   "outputs": [
    {
     "name": "stdout",
     "output_type": "stream",
     "text": [
      "Epoch [1/5], Step [100/600], Loss: 0.3670\n",
      "Epoch [1/5], Step [200/600], Loss: 0.0878\n",
      "Epoch [1/5], Step [300/600], Loss: 0.0941\n",
      "Epoch [1/5], Step [400/600], Loss: 0.0657\n",
      "Epoch [1/5], Step [500/600], Loss: 0.0235\n",
      "Epoch [1/5], Step [600/600], Loss: 0.0305\n",
      "Epoch [2/5], Step [100/600], Loss: 0.0520\n",
      "Epoch [2/5], Step [200/600], Loss: 0.0315\n",
      "Epoch [2/5], Step [300/600], Loss: 0.0606\n",
      "Epoch [2/5], Step [400/600], Loss: 0.0256\n",
      "Epoch [2/5], Step [500/600], Loss: 0.0245\n",
      "Epoch [2/5], Step [600/600], Loss: 0.0482\n",
      "Epoch [3/5], Step [100/600], Loss: 0.0046\n",
      "Epoch [3/5], Step [200/600], Loss: 0.0284\n",
      "Epoch [3/5], Step [300/600], Loss: 0.0331\n",
      "Epoch [3/5], Step [400/600], Loss: 0.1006\n",
      "Epoch [3/5], Step [500/600], Loss: 0.0505\n",
      "Epoch [3/5], Step [600/600], Loss: 0.0301\n",
      "Epoch [4/5], Step [100/600], Loss: 0.0064\n",
      "Epoch [4/5], Step [200/600], Loss: 0.0045\n",
      "Epoch [4/5], Step [300/600], Loss: 0.0019\n",
      "Epoch [4/5], Step [400/600], Loss: 0.0126\n",
      "Epoch [4/5], Step [500/600], Loss: 0.0057\n",
      "Epoch [4/5], Step [600/600], Loss: 0.0238\n",
      "Epoch [5/5], Step [100/600], Loss: 0.0104\n",
      "Epoch [5/5], Step [200/600], Loss: 0.0124\n",
      "Epoch [5/5], Step [300/600], Loss: 0.0049\n",
      "Epoch [5/5], Step [400/600], Loss: 0.0030\n",
      "Epoch [5/5], Step [500/600], Loss: 0.0062\n",
      "Epoch [5/5], Step [600/600], Loss: 0.0049\n"
     ]
    }
   ],
   "source": [
    "# Training the model\n",
    "num_epochs = 5\n",
    "for epoch in range(num_epochs):\n",
    "    for i, (images, labels) in enumerate(train_loader):\n",
    "        if torch.cuda.is_available():\n",
    "            images = Variable(images.cuda())\n",
    "            labels = Variable(labels.cuda())\n",
    "        else:\n",
    "            images = Variable(images)\n",
    "            labels = Variable(labels)\n",
    "\n",
    "        # Forward pass\n",
    "        outputs = cnn(images)\n",
    "        loss = criterion(outputs, labels)\n",
    "\n",
    "        # Backward and optimize\n",
    "        optimizer.zero_grad()\n",
    "        loss.backward()\n",
    "        optimizer.step()\n",
    "\n",
    "        if (i + 1) % 100 == 0:\n",
    "            print('Epoch [{}/{}], Step [{}/{}], Loss: {:.4f}'.format(epoch + 1, num_epochs, i + 1,\n",
    "                                                                     len(train_loader), loss.item()))\n"
   ]
  },
  {
   "cell_type": "markdown",
   "metadata": {
    "id": "JE4UbpAAIde9"
   },
   "source": [
    "\n",
    "**5. Model Evaluation:**\n",
    "   - After training, the model is evaluated on the test dataset to measure its performance.\n",
    "   - Accuracy is calculated by comparing the predicted labels with the true labels of the test images.\n",
    "   - Additionally, a confusion matrix is generated to visualize the model's performance on individual classes."
   ]
  },
  {
   "cell_type": "code",
   "execution_count": null,
   "metadata": {
    "colab": {
     "base_uri": "https://localhost:8080/"
    },
    "id": "WcY_1uaA7iLz",
    "outputId": "1934848e-12ad-404b-ccae-8680f4f825ab"
   },
   "outputs": [
    {
     "name": "stdout",
     "output_type": "stream",
     "text": [
      "Accuracy of the model on the test images: 99.21%\n"
     ]
    }
   ],
   "source": [
    "\n",
    "# Evaluate the model\n",
    "cnn.eval()  # Set the model to evaluation mode\n",
    "correct = 0\n",
    "total = 0\n",
    "predictions = []\n",
    "true_labels = []\n",
    "with torch.no_grad():\n",
    "    for images, labels in test_loader:\n",
    "        if torch.cuda.is_available():\n",
    "            images = Variable(images.cuda())\n",
    "            labels = labels.cuda()\n",
    "        else:\n",
    "            images = Variable(images)\n",
    "        outputs = cnn(images)\n",
    "        _, predicted = torch.max(outputs.data, 1)\n",
    "        predictions.extend(predicted.cpu().numpy())\n",
    "        true_labels.extend(labels.cpu().numpy())\n",
    "        total += labels.size(0)\n",
    "        correct += (predicted == labels).sum().item()\n",
    "\n",
    "accuracy = 100 * correct / total\n",
    "print('Accuracy of the model on the test images: {:.2f}%'.format(accuracy))"
   ]
  },
  {
   "cell_type": "code",
   "execution_count": null,
   "metadata": {
    "colab": {
     "base_uri": "https://localhost:8080/"
    },
    "id": "D6W3EbSb7iNQ",
    "outputId": "3459168e-80a6-4f60-dc9d-0ffdc2ece1d3"
   },
   "outputs": [
    {
     "name": "stdout",
     "output_type": "stream",
     "text": [
      "Confusion Matrix:\n",
      "[[ 975    1    0    0    0    0    2    1    1    0]\n",
      " [   0 1132    1    0    0    0    2    0    0    0]\n",
      " [   1    1 1023    2    0    0    0    5    0    0]\n",
      " [   0    1    0 1003    0    5    0    0    1    0]\n",
      " [   0    0    2    0  971    0    2    0    0    7]\n",
      " [   1    0    0    2    0  888    1    0    0    0]\n",
      " [   4    2    0    0    1    7  944    0    0    0]\n",
      " [   0    1    1    0    0    0    0 1025    1    0]\n",
      " [   1    0    1    2    0    3    0    1  963    3]\n",
      " [   0    1    0    0    4    2    0    4    1  997]]\n"
     ]
    }
   ],
   "source": [
    "# Generating the confusion matrix\n",
    "conf_matrix = confusion_matrix(true_labels, predictions)\n",
    "print('Confusion Matrix:')\n",
    "print(conf_matrix)\n"
   ]
  },
  {
   "cell_type": "code",
   "execution_count": null,
   "metadata": {
    "colab": {
     "base_uri": "https://localhost:8080/",
     "height": 718
    },
    "id": "LdTU7PHWAys6",
    "outputId": "b570b78c-daa5-45b1-b6e7-3bcfeb8bf899"
   },
   "outputs": [
    {
     "data": {
      "image/png": "[encoded data removed]",
      "text/plain": [
       "<Figure size 1000x800 with 2 Axes>"
      ]
     },
     "metadata": {},
     "output_type": "display_data"
    }
   ],
   "source": [
    "import numpy as np\n",
    "import matplotlib.pyplot as plt\n",
    "from sklearn.metrics import confusion_matrix\n",
    "import seaborn as sns\n",
    "\n",
    "# Calculate the confusion matrix\n",
    "conf_matrix = confusion_matrix(true_labels, predictions)\n",
    "\n",
    "# Plot the confusion matrix\n",
    "plt.figure(figsize=(10, 8))\n",
    "sns.heatmap(conf_matrix, annot=True, fmt='d', cmap='Blues', xticklabels=np.arange(10), yticklabels=np.arange(10))\n",
    "plt.xlabel('Predicted Label')\n",
    "plt.ylabel('True Label')\n",
    "plt.title('Confusion Matrix')\n",
    "plt.show()\n"
   ]
  },
  {
   "cell_type": "markdown",
   "metadata": {
    "id": "au8pBBbcIVaR"
   },
   "source": [
    "**6. K-Fold Cross-Validation:**\n",
    "   - K-Fold cross-validation is implemented to assess the robustness of the model.\n",
    "   - The training dataset is divided into 5 folds, and the model is trained and evaluated on each fold separately.\n",
    "   - Accuracy is reported for each fold to evaluate the model's performance across different subsets of data."
   ]
  },
  {
   "cell_type": "code",
   "execution_count": null,
   "metadata": {
    "colab": {
     "base_uri": "https://localhost:8080/"
    },
    "id": "ZbyC_5Hi7iOd",
    "outputId": "4e69c636-98dd-46ee-9997-8e7d722ef0f6"
   },
   "outputs": [
    {
     "name": "stdout",
     "output_type": "stream",
     "text": [
      "Fold 1:\n",
      "Fold 2:\n",
      "Fold 3:\n",
      "Fold 4:\n",
      "Fold 5:\n"
     ]
    }
   ],
   "source": [
    "# K-Fold cross-validation\n",
    "kf = KFold(n_splits=5)\n",
    "fold = 0\n",
    "for train_index, test_index in kf.split(train_data):\n",
    "    fold += 1\n",
    "    print(f\"Fold {fold}:\")\n",
    "    train_fold_data = torch.utils.data.Subset(train_data, train_index)\n",
    "    test_fold_data = torch.utils.data.Subset(train_data, test_index)\n",
    "\n",
    "    train_fold_loader = torch.utils.data.DataLoader(dataset=train_fold_data, batch_size=100, shuffle=True)\n",
    "    test_fold_loader = torch.utils.data.DataLoader(dataset=test_fold_data, batch_size=100, shuffle=False)"
   ]
  },
  {
   "cell_type": "code",
   "execution_count": null,
   "metadata": {
    "id": "VOTkwiLG7iQl"
   },
   "outputs": [],
   "source": [
    "   # Train the model\n",
    "cnn.train()\n",
    "for epoch in range(num_epochs):\n",
    "        for i, (images, labels) in enumerate(train_fold_loader):\n",
    "            if torch.cuda.is_available():\n",
    "                images = Variable(images.cuda())\n",
    "                labels = Variable(labels.cuda())\n",
    "            else:\n",
    "                images = Variable(images)\n",
    "                labels = Variable(labels)\n",
    "\n",
    "            # Forward pass\n",
    "            outputs = cnn(images)\n",
    "            loss = criterion(outputs, labels)\n",
    "\n",
    "            # Backward and optimize\n",
    "            optimizer.zero_grad()\n",
    "            loss.backward()\n",
    "            optimizer.step()"
   ]
  },
  {
   "cell_type": "code",
   "execution_count": null,
   "metadata": {
    "colab": {
     "base_uri": "https://localhost:8080/"
    },
    "id": "mk423yRk7iS8",
    "outputId": "bc99a70d-b9be-4459-9db0-7be857dea3df"
   },
   "outputs": [
    {
     "name": "stdout",
     "output_type": "stream",
     "text": [
      "Accuracy of the model on Fold 5 of the training images: 99.42%\n"
     ]
    }
   ],
   "source": [
    "# Evaluate the model\n",
    "cnn.eval()  # Set the model to evaluation mode\n",
    "correct = 0\n",
    "total = 0\n",
    "with torch.no_grad():\n",
    "    for images, labels in test_fold_loader:\n",
    "        if torch.cuda.is_available():\n",
    "            images = Variable(images.cuda())\n",
    "            labels = labels.cuda()\n",
    "        else:\n",
    "            images = Variable(images)\n",
    "        outputs = cnn(images)\n",
    "        _, predicted = torch.max(outputs.data, 1)\n",
    "        total += labels.size(0)\n",
    "        correct += (predicted == labels).sum().item()\n",
    "\n",
    "    accuracy = 100 * correct / total\n",
    "print('Accuracy of the model on Fold {} of the training images: {:.2f}%'.format(fold, accuracy))\n"
   ]
  },
  {
   "cell_type": "markdown",
   "metadata": {
    "id": "DOLBbqTCni5H"
   },
   "source": [
    "**7. Conclusion:**\n",
    "   - The implemented CNN architecture achieves a high accuracy in classifying handwritten digits from the MNIST dataset.\n",
    "   - K-Fold cross-validation helps assess the model's generalization ability and robustness.\n",
    "   - Overall, the project demonstrates the effectiveness of CNNs for digit classification tasks and provides insights into model performance through evaluation metrics and visualizations."
   ]
  }
 ],
 "metadata": {
  "colab": {
   "provenance": []
  },
  "kernelspec": {
   "display_name": "Python 3 (ipykernel)",
   "language": "python",
   "name": "python3"
  },
  "language_info": {
   "codemirror_mode": {
    "name": "ipython",
    "version": 3
   },
   "file_extension": ".py",
   "mimetype": "text/x-python",
   "name": "python",
   "nbconvert_exporter": "python",
   "pygments_lexer": "ipython3",
   "version": "3.11.5"
  }
 },
 "nbformat": 4,
 "nbformat_minor": 1
}
